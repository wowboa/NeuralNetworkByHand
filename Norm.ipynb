{
 "cells": [
  {
   "cell_type": "code",
   "execution_count": 2,
   "metadata": {},
   "outputs": [],
   "source": [
    "from torch import nn\n",
    "import torch"
   ]
  },
  {
   "cell_type": "code",
   "execution_count": 3,
   "metadata": {},
   "outputs": [],
   "source": [
    "class RMSNorm(nn.Module):\n",
    "    def __init__(self, d, p=-1, eps=1e-8, bias=False):\n",
    "        \"\"\"\n",
    "        Root Mean Square Layer Normalization, https://arxiv.org/abs/1910.07467\n",
    "        :param d: model size\n",
    "        :param p: partial RMSNorm, valid value [0, 1], default -1.0 (disabled)\n",
    "        :param eps:  epsilon value, default 1e-8\n",
    "        :param bias: whether use bias term for RMSNorm, disabled by\n",
    "            default because RMSNorm doesn't enforce re-centering invariance.\n",
    "        \"\"\"\n",
    "        super().__init__()\n",
    "\n",
    "        self.eps = eps\n",
    "        self.d = d\n",
    "        self.p = p\n",
    "        self.bias = bias\n",
    "\n",
    "        self.scale = nn.Parameter(torch.ones(d))\n",
    "        self.register_parameter(\"scale\", self.scale)\n",
    "\n",
    "        if self.bias:\n",
    "            self.offset = nn.Parameter(torch.zeros(d))\n",
    "            self.register_parameter(\"offset\", self.offset)\n",
    "\n",
    "    def forward(self, x):\n",
    "        if self.p < 0. or self.p > 1.:\n",
    "            norm_x = x.norm(2, dim=-1, keepdim=True)\n",
    "            d_x = self.d\n",
    "        else:\n",
    "            partial_size = int(self.d * self.p)\n",
    "            partial_x, _ = torch.split(x, [partial_size, self.d - partial_size], dim=-1)\n",
    "\n",
    "            norm_x = partial_x.norm(2, dim=-1, keepdim=True)\n",
    "            d_x = partial_size\n",
    "\n",
    "        rms_x = norm_x * d_x ** (-1. / 2)\n",
    "        x_normed = x / (rms_x + self.eps)\n",
    "\n",
    "        if self.bias:\n",
    "            return self.scale * x_normed + self.offset\n",
    "        return self.scale * x_normed\n",
    "\n",
    "\n",
    "class RMSNormGemma(nn.Module):\n",
    "    def __init__(self, dim: int, eps: float = 1e-6, add_unit_offser: bool = True):\n",
    "        super().__init__()\n",
    "\n",
    "        self.eps = eps\n",
    "        self.add_unit_offser = add_unit_offser\n",
    "        self.weight = nn.Parameter(torch.zeros(dim))\n",
    "\n",
    "    def _norm(self, x):\n",
    "        return x * torch.rsqrt(x.pow(2).mean(-1, keepdim=True) + self.eps)\n",
    "    \n",
    "    def forward(self, x):\n",
    "        x = self._norm(x.float()).type_as(x)\n",
    "        if self.add_unit_offser:\n",
    "            output = x * (1 + self.weight)\n",
    "        else:\n",
    "            output = x * self.weight\n",
    "        return output\n",
    "\n"
   ]
  },
  {
   "cell_type": "code",
   "execution_count": 7,
   "metadata": {},
   "outputs": [
    {
     "name": "stdout",
     "output_type": "stream",
     "text": [
      "tensor([[0.4629, 0.9258, 1.3887],\n",
      "        [0.7895, 0.9869, 1.1843]], grad_fn=<MulBackward0>)\n",
      "tensor([[0.4629, 0.9258, 1.3887],\n",
      "        [0.7895, 0.9869, 1.1843]], grad_fn=<MulBackward0>)\n"
     ]
    }
   ],
   "source": [
    "x = torch.tensor([[1.,2.,3.],[4.,5.,6.]])\n",
    "rmsnorm1 = RMSNorm(3)\n",
    "rmsnorm2 = RMSNormGemma(3)\n",
    "print(rmsnorm1(x))\n",
    "print(rmsnorm2(x))"
   ]
  },
  {
   "cell_type": "code",
   "execution_count": 6,
   "metadata": {},
   "outputs": [
    {
     "name": "stdout",
     "output_type": "stream",
     "text": [
      "tensor([[0.4629, 0.9258, 1.3887],\n",
      "        [0.7895, 0.9869, 1.1843]])\n",
      "tensor([[0.4629, 0.9258, 1.3887],\n",
      "        [0.7895, 0.9869, 1.1843]])\n"
     ]
    }
   ],
   "source": [
    "x = torch.tensor([[1.,2.,3.],[4.,5.,6.]])\n",
    "print(x / (x.norm(2, dim=-1, keepdim=True)* 3 ** (-1. / 2)))\n",
    "print(x * torch.rsqrt(x.pow(2).mean(-1, keepdim=True)))"
   ]
  }
 ],
 "metadata": {
  "kernelspec": {
   "display_name": "Python 3",
   "language": "python",
   "name": "python3"
  },
  "language_info": {
   "codemirror_mode": {
    "name": "ipython",
    "version": 3
   },
   "file_extension": ".py",
   "mimetype": "text/x-python",
   "name": "python",
   "nbconvert_exporter": "python",
   "pygments_lexer": "ipython3",
   "version": "3.10.11"
  }
 },
 "nbformat": 4,
 "nbformat_minor": 2
}
